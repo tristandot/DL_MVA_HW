{
 "cells": [
  {
   "cell_type": "markdown",
   "metadata": {},
   "source": [
    "**You may need to install [OpenCV](https://pypi.python.org/pypi/opencv-python) and [scikit-video](http://www.scikit-video.org/stable/).**"
   ]
  },
  {
   "cell_type": "code",
   "execution_count": 27,
   "metadata": {},
   "outputs": [],
   "source": [
    "import keras\n",
    "import numpy as np\n",
    "import io\n",
    "import base64\n",
    "from IPython.display import HTML\n",
    "import skvideo.io\n",
    "import cv2\n",
    "import json\n",
    "\n",
    "from keras.models import Sequential,model_from_json\n",
    "from keras.layers.core import Dense\n",
    "from keras.optimizers import sgd, adam\n",
    "from keras.layers import Conv2D, MaxPooling2D, Activation, AveragePooling2D,Reshape,BatchNormalization, Flatten\n",
    "\n",
    "import warnings\n",
    "warnings.filterwarnings('ignore')"
   ]
  },
  {
   "cell_type": "markdown",
   "metadata": {},
   "source": [
    "# MiniProject on Deep Reinforcement Learning"
   ]
  },
  {
   "cell_type": "markdown",
   "metadata": {},
   "source": [
    "__Notations__: $E_p$ is the expectation under probability $p$. Please justify each of your answer and widely comment your code."
   ]
  },
  {
   "cell_type": "markdown",
   "metadata": {},
   "source": [
    "# Context"
   ]
  },
  {
   "cell_type": "markdown",
   "metadata": {},
   "source": [
    "In a reinforcement learning algorithm, we modelize each step $t$ as an action $a_t$ obtained from a state $s_t$, i.e. $\\{(a_{t},s_{t})_{t\\leq T}\\}$ having the Markov property. We consider a discount factor $\\gamma \\in [0,1]$ that ensures convergence. The goal is to find among all the policies $\\pi$, one that maximizes the expected reward:\n",
    "\n",
    "\\begin{equation*}\n",
    "R(\\pi)=\\sum_{t\\leq T}E_{p^{\\pi}}[\\gamma^t r(s_{t},a_{t})] \\> ,\n",
    "\\end{equation*}\n",
    "\n",
    "where: \n",
    "\\begin{equation*}p^{\\pi}(a_{0},a_{1},s_{1},...,a_{T},s_{T})=p(a_{0})\\prod_{t=1}^{T}\\pi(a_{t}|s_{t})p(s_{t+1}|s_{t},a_{t}) \\> .\n",
    "\\end{equation*}\n",
    "\n",
    "We note the $Q$-function:\n",
    "\n",
    "\\begin{equation*}Q^\\pi(s,a)=E_{p^{\\pi}}[\\sum_{t\\leq T}\\gamma^{t}r(s_{t},a_{t})|s_{0}=s,a_{0}=a] \\> .\n",
    "\\end{equation*}\n",
    "\n",
    "Thus, the optimal Q function is:\n",
    "\\begin{equation*}\n",
    "Q^*(s,a)=\\max_{\\pi}Q^\\pi(s,a) \\> .\n",
    "\\end{equation*}\n",
    "\n",
    "In this project, we will apply the deep reinforcement learning techniques to a simple game: an agent will have to learn from scratch a policy that will permit it maximizing a reward."
   ]
  },
  {
   "cell_type": "markdown",
   "metadata": {},
   "source": [
    "## The environment, the agent and the game"
   ]
  },
  {
   "cell_type": "markdown",
   "metadata": {},
   "source": [
    "### The environment"
   ]
  },
  {
   "cell_type": "markdown",
   "metadata": {},
   "source": [
    "```Environment``` is an abstract class that represents the states, rewards, and actions to obtain the new state."
   ]
  },
  {
   "cell_type": "code",
   "execution_count": 2,
   "metadata": {},
   "outputs": [],
   "source": [
    "class Environment(object):\n",
    "    def __init__(self):\n",
    "        pass\n",
    "\n",
    "    def act(self, act):\n",
    "        \"\"\"\n",
    "        One can act on the environment and obtain its reaction:\n",
    "        - the new state\n",
    "        - the reward of the new state\n",
    "        - should we continue the game?\n",
    "\n",
    "        :return: state, reward, game_over\n",
    "        \"\"\"\n",
    "        pass\n",
    "\n",
    "\n",
    "    def reset(self):\n",
    "        \"\"\"\n",
    "        Reinitialize the environment to a random state and returns\n",
    "        the original state\n",
    "\n",
    "        :return: state\n",
    "        \"\"\"\n",
    "        pass\n",
    "    \n",
    "    def draw(self):\n",
    "        \"\"\"\n",
    "        Visualize in the console or graphically the current state\n",
    "        \"\"\"\n",
    "        pass"
   ]
  },
  {
   "cell_type": "markdown",
   "metadata": {},
   "source": [
    "The method ```act``` allows to act on the environment at a given state $s_t$ (stored internally), via action $a_t$. The method will return the new state $s_{t+1}$, the reward $r(s_{t},a_{t})$ and determines if $t\\leq T$ (*game_over*).\n",
    "\n",
    "The method ```reset``` simply reinitializes the environment to a random state $s_0$.\n",
    "\n",
    "The method ```draw``` displays the current state $s_t$ (this is useful to check the behavior of the Agent).\n",
    "\n",
    "We modelize $s_t$ as a tensor, while $a_t$ is an integer."
   ]
  },
  {
   "cell_type": "markdown",
   "metadata": {},
   "source": [
    "### The Agent"
   ]
  },
  {
   "cell_type": "markdown",
   "metadata": {},
   "source": [
    "The goal of the ```Agent``` is to interact with the ```Environment``` by proposing actions $a_t$ obtained from a given state $s_t$ to attempt to maximize its __reward__ $r(s_t,a_t)$. We propose the following abstract class:"
   ]
  },
  {
   "cell_type": "code",
   "execution_count": 3,
   "metadata": {},
   "outputs": [],
   "source": [
    "class Agent(object):\n",
    "    def __init__(self, epsilon=0.1, n_action=4):\n",
    "        self.epsilon = epsilon\n",
    "        self.n_action = n_action\n",
    "    \n",
    "    def set_epsilon(self,e):\n",
    "        self.epsilon = e\n",
    "\n",
    "    def act(self,s,train=True):\n",
    "        \"\"\" This function should return the next action to do:\n",
    "        an integer between 0 and 4 (not included) with a random exploration of epsilon\"\"\"\n",
    "        if train:\n",
    "            if np.random.rand() <= self.epsilon:\n",
    "                a = np.random.randint(0, self.n_action, size=1)[0]\n",
    "            else:\n",
    "                a = self.learned_act(s)\n",
    "        else: # in some cases, this can improve the performance.. remove it if poor performances\n",
    "            a = self.learned_act(s)\n",
    "\n",
    "        return a\n",
    "\n",
    "    def learned_act(self,s):\n",
    "        \"\"\" Act via the policy of the agent, from a given state s\n",
    "        it proposes an action a\"\"\"\n",
    "        pass\n",
    "\n",
    "    def reinforce(self, s, n_s, a, r, game_over_):\n",
    "        \"\"\" This function is the core of the learning algorithm. \n",
    "        It takes as an input the current state s_, the next state n_s_\n",
    "        the action a_ used to move from s_ to n_s_ and the reward r_.\n",
    "        \n",
    "        Its goal is to learn a policy.\n",
    "        \"\"\"\n",
    "        pass\n",
    "\n",
    "    def save(self):\n",
    "        \"\"\" This function returns basic stats if applicable: the\n",
    "        loss and/or the model\"\"\"\n",
    "        pass\n",
    "\n",
    "    def load(self):\n",
    "        \"\"\" This function allows to restore a model\"\"\"\n",
    "        pass"
   ]
  },
  {
   "cell_type": "markdown",
   "metadata": {},
   "source": [
    "***\n",
    "__Question 1__:\n",
    "Explain the function act. Why is ```epsilon``` essential?"
   ]
  },
  {
   "cell_type": "markdown",
   "metadata": {},
   "source": [
    "The function act has two modes: the training mode (the agent takes an action at random with probability $\\epsilon$, and follows the current policy with probability $1 - \\epsilon$), and the inference mode (the agent follows the learned policy).\n",
    "\n",
    "$\\epsilon$ sets the trade-off between exploitation and exploration: the model must explore various state/action pairs in order to possibly find an optimal policy, and $\\epsilon$ is consequently essential. It can be chosen high at the beginning of the training, in order to favorize exploration, and then lower when the policy becomes good."
   ]
  },
  {
   "cell_type": "markdown",
   "metadata": {},
   "source": [
    "***\n",
    "### The Game"
   ]
  },
  {
   "cell_type": "markdown",
   "metadata": {},
   "source": [
    "The ```Agent``` and the ```Environment``` work in an interlaced way as in the following (take some time to understand this code as it is the core of the project)\n",
    "\n",
    "```python\n",
    "\n",
    "epoch = 300\n",
    "env = Environment()\n",
    "agent = Agent()\n",
    "\n",
    "\n",
    "# Number of won games\n",
    "score = 0\n",
    "loss = 0\n",
    "\n",
    "\n",
    "for e in range(epoch):\n",
    "    # At each epoch, we restart to a fresh game and get the initial state\n",
    "    state = env.reset()\n",
    "    # This assumes that the games will end\n",
    "    game_over = False\n",
    "\n",
    "    win = 0\n",
    "    lose = 0\n",
    "    \n",
    "    while not game_over:\n",
    "        # The agent performs an action\n",
    "        action = agent.act(state)\n",
    "\n",
    "        # Apply an action to the environment, get the next state, the reward\n",
    "        # and if the games end\n",
    "        prev_state = state\n",
    "        state, reward, game_over = env.act(action)\n",
    "\n",
    "        # Update the counters\n",
    "        if reward > 0:\n",
    "            win = win + reward\n",
    "        if reward < 0:\n",
    "            lose = lose -reward\n",
    "\n",
    "        # Apply the reinforcement strategy\n",
    "        loss = agent.reinforce(prev_state, state,  action, reward, game_over)\n",
    "\n",
    "    # Save as a mp4\n",
    "    if e % 10 == 0:\n",
    "        env.draw(e)\n",
    "\n",
    "    # Update stats\n",
    "    score += win-lose\n",
    "\n",
    "    print(\"Epoch {:03d}/{:03d} | Loss {:.4f} | Win/lose count {}/{} ({})\"\n",
    "          .format(e, epoch, loss, win, lose, win-lose))\n",
    "    agent.save()\n",
    "```"
   ]
  },
  {
   "cell_type": "markdown",
   "metadata": {},
   "source": [
    "# The game, *eat cheese*"
   ]
  },
  {
   "cell_type": "markdown",
   "metadata": {},
   "source": [
    "A rat runs on an island and tries to eat as much as possible. The island is subdivided into $N\\times N$ cells, in which there are cheese (+0.5) and poisonous cells (-1). The rat has a visibility of 2 cells (thus it can see $5^2$ cells). The rat is given a time $T$ to accumulate as much food as possible. It can perform 4 actions: going up, down, left, right. \n",
    "\n",
    "The goal is to code an agent to solve this task that will learn by trial and error. We propose the following environment:"
   ]
  },
  {
   "cell_type": "code",
   "execution_count": 4,
   "metadata": {},
   "outputs": [],
   "source": [
    "class Environment(object):\n",
    "    def __init__(self, grid_size=10, max_time=500, temperature=0.1):\n",
    "        grid_size = grid_size+4\n",
    "        self.grid_size = grid_size\n",
    "        self.max_time = max_time\n",
    "        self.temperature = temperature\n",
    "\n",
    "        #board on which one plays\n",
    "        self.board = np.zeros((grid_size,grid_size))\n",
    "        self.position = np.zeros((grid_size,grid_size))\n",
    "\n",
    "        # coordinate of the cat\n",
    "        self.x = 0\n",
    "        self.y = 1\n",
    "\n",
    "        # self time\n",
    "        self.t = 0\n",
    "\n",
    "        self.scale=16\n",
    "\n",
    "        self.to_draw = np.zeros((max_time+2, grid_size*self.scale, grid_size*self.scale, 3))\n",
    "\n",
    "\n",
    "    def draw(self,e):\n",
    "        skvideo.io.vwrite(str(e) + '.mp4', self.to_draw)\n",
    "\n",
    "    def get_frame(self,t):\n",
    "        b = np.zeros((self.grid_size,self.grid_size,3))+128\n",
    "        b[self.board>0,0] = 256\n",
    "        b[self.board < 0, 2] = 256\n",
    "        b[self.x,self.y,:]=256\n",
    "        b[-2:,:,:]=0\n",
    "        b[:,-2:,:]=0\n",
    "        b[:2,:,:]=0\n",
    "        b[:,:2,:]=0\n",
    "        \n",
    "        b =  cv2.resize(b, None, fx=self.scale, fy=self.scale, interpolation=cv2.INTER_NEAREST)\n",
    "\n",
    "        self.to_draw[t,:,:,:]=b\n",
    "\n",
    "\n",
    "    def act(self, action):\n",
    "        \"\"\"This function returns the new state, reward and decides if the\n",
    "        game ends.\"\"\"\n",
    "\n",
    "        self.get_frame(int(self.t))\n",
    "\n",
    "        self.position = np.zeros((self.grid_size, self.grid_size))\n",
    "\n",
    "        self.position[0:2,:]= -1\n",
    "        self.position[:,0:2] = -1\n",
    "        self.position[-2:, :] = -1\n",
    "        self.position[-2:, :] = -1\n",
    "\n",
    "        self.position[self.x, self.y] = 1\n",
    "        if action == 0:\n",
    "            if self.x == self.grid_size-3:\n",
    "                self.x = self.x-1\n",
    "            else:\n",
    "                self.x = self.x + 1\n",
    "        elif action == 1:\n",
    "            if self.x == 2:\n",
    "                self.x = self.x+1\n",
    "            else:\n",
    "                self.x = self.x-1\n",
    "        elif action == 2:\n",
    "            if self.y == self.grid_size - 3:\n",
    "                self.y = self.y - 1\n",
    "            else:\n",
    "                self.y = self.y + 1\n",
    "        elif action == 3:\n",
    "            if self.y == 2:\n",
    "                self.y = self.y + 1\n",
    "            else:\n",
    "                self.y = self.y - 1\n",
    "        else:\n",
    "            RuntimeError('Error: action not recognized')\n",
    "\n",
    "        self.t = self.t + 1\n",
    "        reward = self.board[self.x, self.y]\n",
    "        self.board[self.x, self.y] = 0\n",
    "        game_over = self.t > self.max_time\n",
    "        state = np.concatenate((self.board.reshape(self.grid_size, self.grid_size,1),\n",
    "                        self.position.reshape(self.grid_size, self.grid_size,1)),axis=2)\n",
    "        state = state[self.x-2:self.x+3,self.y-2:self.y+3,:]\n",
    "\n",
    "        return state, reward, game_over\n",
    "\n",
    "    def reset(self):\n",
    "        \"\"\"This function resets the game and returns the initial state\"\"\"\n",
    "\n",
    "        self.x = np.random.randint(3, self.grid_size-3, size=1)[0]\n",
    "        self.y = np.random.randint(3, self.grid_size-3, size=1)[0]\n",
    "\n",
    "\n",
    "        bonus = 0.5*np.random.binomial(1,self.temperature,size=self.grid_size**2)\n",
    "        bonus = bonus.reshape(self.grid_size,self.grid_size)\n",
    "\n",
    "        malus = -1.0*np.random.binomial(1,self.temperature,size=self.grid_size**2)\n",
    "        malus = malus.reshape(self.grid_size, self.grid_size)\n",
    "\n",
    "        self.to_draw = np.zeros((self.max_time+2, self.grid_size*self.scale, self.grid_size*self.scale, 3))\n",
    "\n",
    "\n",
    "        malus[bonus>0]=0\n",
    "\n",
    "        self.board = bonus + malus\n",
    "\n",
    "        self.position = np.zeros((self.grid_size, self.grid_size))\n",
    "        self.position[0:2,:]= -1\n",
    "        self.position[:,0:2] = -1\n",
    "        self.position[-2:, :] = -1\n",
    "        self.position[-2:, :] = -1\n",
    "        self.board[self.x,self.y] = 0\n",
    "        self.t = 0\n",
    "\n",
    "        state = np.concatenate((\n",
    "                               self.board.reshape(self.grid_size, self.grid_size,1),\n",
    "                        self.position.reshape(self.grid_size, self.grid_size,1)),axis=2)\n",
    "\n",
    "        state = state[self.x - 2:self.x + 3, self.y - 2:self.y + 3, :]\n",
    "        return state"
   ]
  },
  {
   "cell_type": "markdown",
   "metadata": {},
   "source": [
    "The following elements are important because they correspond to the hyper parameters for this project:"
   ]
  },
  {
   "cell_type": "code",
   "execution_count": 5,
   "metadata": {},
   "outputs": [],
   "source": [
    "# parameters\n",
    "size = 13\n",
    "T=200\n",
    "temperature=0.3\n",
    "epochs_train=50 # set small when debugging\n",
    "epochs_test=20 # set small when debugging\n",
    "\n",
    "# display videos\n",
    "def display_videos(name):\n",
    "    video = io.open(name, 'r+b').read()\n",
    "    encoded = base64.b64encode(video)\n",
    "    return '''<video alt=\"test\" controls>\n",
    "                <source src=\"data:video/mp4;base64,{0}\" type=\"video/mp4\" />\n",
    "             </video>'''.format(encoded.decode('ascii'))"
   ]
  },
  {
   "cell_type": "markdown",
   "metadata": {},
   "source": [
    "__Question 2__ Explain the use of the arrays ```position``` and ```board```."
   ]
  },
  {
   "cell_type": "markdown",
   "metadata": {},
   "source": [
    "• The ```position``` array indicates the rat position ; it has three states: the actual position of the rat (1), the coordinates outside of the island (-1), and all available cases (0)\n",
    "\n",
    "• The ```board``` array represents the rewards of the grid cells (-1 poison, 0.5 cheese, 0 otherwise)"
   ]
  },
  {
   "cell_type": "markdown",
   "metadata": {},
   "source": [
    "## Random Agent"
   ]
  },
  {
   "cell_type": "markdown",
   "metadata": {},
   "source": [
    "***\n",
    "__Question 3__ Implement a random Agent (only ```learned_act``` needs to be implemented):"
   ]
  },
  {
   "cell_type": "code",
   "execution_count": 6,
   "metadata": {},
   "outputs": [],
   "source": [
    "class RandomAgent(Agent):\n",
    "    def __init__(self):\n",
    "        super(RandomAgent, self).__init__()\n",
    "        pass\n",
    "\n",
    "    def learned_act(self, s):\n",
    "        return np.random.randint(0, self.n_action)"
   ]
  },
  {
   "cell_type": "markdown",
   "metadata": {},
   "source": [
    "***\n",
    "***\n",
    "__Question 4__ Visualize the game moves. You need to fill in the following function for the evaluation:"
   ]
  },
  {
   "cell_type": "code",
   "execution_count": 24,
   "metadata": {},
   "outputs": [],
   "source": [
    "def test(agent,env,epochs,prefix=''):\n",
    "    # Number of won games\n",
    "    score = 0\n",
    "        \n",
    "    for e in range(epochs):\n",
    "        \n",
    "        ##### FILL IN HERE\n",
    "        \n",
    "        state = env.reset()\n",
    "        game_over = False\n",
    "        win = 0\n",
    "        lose = 0\n",
    "        \n",
    "        while not game_over:\n",
    "\n",
    "            prev_state = state\n",
    "            action = agent.act(prev_state, train=False)\n",
    "            state, reward, game_over = env.act(action)\n",
    "            \n",
    "            if reward > 0:\n",
    "                win = win + reward\n",
    "            if reward < 0:\n",
    "                lose = lose - reward\n",
    "        \n",
    "        # Save as a mp4\n",
    "        env.draw(prefix+str(e))\n",
    "\n",
    "        # Update stats\n",
    "        score = score + win - lose\n",
    "\n",
    "        print(\"Win/lose count {}/{}. Average score ({})\"\n",
    "              .format(win, lose, score/(1+e)))\n",
    "    print('Final score: '+str(score/epochs))"
   ]
  },
  {
   "cell_type": "code",
   "execution_count": 8,
   "metadata": {},
   "outputs": [
    {
     "name": "stdout",
     "output_type": "stream",
     "text": [
      "Win/lose count 9.5/11.0. Average score (-1.5)\n",
      "Win/lose count 14.5/18.0. Average score (-2.5)\n",
      "Win/lose count 10.0/15.0. Average score (-3.3333333333333335)\n",
      "Win/lose count 11.0/6.0. Average score (-1.25)\n",
      "Win/lose count 11.5/15.0. Average score (-1.7)\n",
      "Win/lose count 11.5/19.0. Average score (-2.6666666666666665)\n",
      "Win/lose count 7.5/15.0. Average score (-3.357142857142857)\n",
      "Win/lose count 8.0/10.0. Average score (-3.1875)\n",
      "Win/lose count 9.5/15.0. Average score (-3.4444444444444446)\n",
      "Win/lose count 7.0/14.0. Average score (-3.8)\n",
      "Win/lose count 11.5/13.0. Average score (-3.590909090909091)\n",
      "Win/lose count 9.5/19.0. Average score (-4.083333333333333)\n",
      "Win/lose count 8.5/14.0. Average score (-4.1923076923076925)\n",
      "Win/lose count 12.5/14.0. Average score (-4.0)\n",
      "Win/lose count 7.5/12.0. Average score (-4.033333333333333)\n",
      "Win/lose count 8.0/13.0. Average score (-4.09375)\n",
      "Win/lose count 5.0/8.0. Average score (-4.029411764705882)\n",
      "Win/lose count 11.5/22.0. Average score (-4.388888888888889)\n",
      "Win/lose count 8.5/12.0. Average score (-4.342105263157895)\n",
      "Win/lose count 10.0/13.0. Average score (-4.275)\n",
      "Final score: -4.275\n"
     ]
    },
    {
     "data": {
      "text/html": [
       "<video alt=\"test\" controls>\n",
       "                <source src=\"data:video/mp4;base64,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\" type=\"video/mp4\" />\n",
       "             </video>"
      ],
      "text/plain": [
       "<IPython.core.display.HTML object>"
      ]
     },
     "execution_count": 8,
     "metadata": {},
     "output_type": "execute_result"
    }
   ],
   "source": [
    "# Initialize the game\n",
    "env = Environment(grid_size=size, max_time=T,temperature=temperature)\n",
    "\n",
    "# Initialize the agent!\n",
    "agent = RandomAgent()\n",
    "\n",
    "test(agent,env,epochs_test,prefix='random')\n",
    "HTML(display_videos('random0.mp4'))"
   ]
  },
  {
   "cell_type": "markdown",
   "metadata": {},
   "source": [
    "***\n",
    "## DQN"
   ]
  },
  {
   "cell_type": "markdown",
   "metadata": {},
   "source": [
    "Let us assume here that $T=\\infty$.\n",
    "\n",
    "***\n",
    "__Question 5__ Let $\\pi$ be a policy, show that:\n",
    "\n",
    "\\begin{equation*}\n",
    "Q^{\\pi}(s,a)=E_{(s',a')\\sim p(.|s,a)}[r(s,a)+\\gamma Q^{\\pi}(s',a')]\n",
    "\\end{equation*}\n",
    "\n",
    "Then, show that for the optimal policy $\\pi^*$ (we assume its existence), the following holds: \n",
    "\n",
    "\\begin{equation*}\n",
    "Q^{*}(s,a)=E_{s'\\sim \\pi^*(.|s,a)}[r(s,a)+\\gamma\\max_{a'}Q^{*}(s',a')].\n",
    "\\end{equation*}\n",
    "Finally, deduce that a plausible objective is:\n",
    "\n",
    "\\begin{equation*}\n",
    "\\mathcal{L}(\\theta)=E_{s' \\sim \\pi^*(.|s,a)}\\Vert r+\\gamma\\max\\max_{a'}Q(s',a',\\theta)-Q(s,a,\\theta)\\Vert^{2}.\n",
    "\\end{equation*}\n",
    "\n",
    "\n"
   ]
  },
  {
   "cell_type": "markdown",
   "metadata": {},
   "source": [
    "\n",
    "$\\textit{1:}$\n",
    "\n",
    "$\n",
    "\\begin{align}\n",
    "Q^{\\pi}(s,a) &= E_{p^\\pi}[\\sum_{t\\leq T} \\gamma^{t} r(s_t,a_t)|s_0 = s, a_0 = a]\\\\\n",
    "&= E_{p^\\pi}[  r(s,a) + \\gamma\\sum_{t=1}^{T} \\gamma^{t-1} r(s_t,a_t)|s_0 = s, a_0 = a]\\\\\n",
    "&= r(s,a) + \\gamma \\sum_{s'}\\sum_{a'}p(s_1 = s',a_1 = a'|s_0,a_0)E[\\sum_{t=1}^{T}\\gamma^{t-1}r(s_t,a_t)|s_1 = s', a_1 = a']\\\\\n",
    "&= r(s,a) + \\gamma\\sum_{s'}\\sum_{a'}p(s',a'|s_0,a_0)Q^{\\pi}(s',a')\\\\\n",
    "&=r(s,a) + \\gamma E_{s',a'\\sim p(.|s,a)}[Q^{\\pi}(s',a')]\n",
    "\\end{align}\n",
    "$\n",
    "\n",
    "$\\textit{2:}$\n",
    "\n",
    "$\n",
    "\\begin{align}\n",
    "Q^{*}(s,a) &= \\max_{\\pi}E_{p^\\pi}[\\sum_{t\\leq T} \\gamma^{t} r(s_t,a_t)|s_0 = s, a_0 = a]\\\\\n",
    "&= \\max_{\\pi'} ( r(s,a) + \\gamma \\sum_{s'}\\sum_{a'}p(s',a'|s_0,a_0)Q^{\\pi'}(s',a')) \\\\\n",
    "&= r(s,a) + \\gamma \\sum_{s'}\\sum_{a'}p(s',a'|s_0,a_0)\\max_{\\pi'}Q^{\\pi'}(s',a') \\\\\n",
    "&= E_{s'\\sim \\pi^*(.|s,a)}[r(s,a)+\\gamma\\max_{a'}Q^{*}(s',a')]\n",
    "\\end{align}\n",
    "$\n",
    "\n",
    "$\\textit{3:}$\n",
    "\n",
    "The optimal policy $\\pi^*$ satisfies: \n",
    "\n",
    "$E_{s'\\sim \\pi^*(.|s,a)}[r(s,a)+\\gamma\\max_{a'}Q^{*}(s',a') - Q^{*}(s,a)] = 0$\n",
    "\n",
    "It appears then logical to take the norm of this quantity as the loss function."
   ]
  },
  {
   "cell_type": "markdown",
   "metadata": {},
   "source": [
    "***\n",
    "The DQN-learning algorithm relies on these derivations to train the parameters $\\theta$ of a Deep Neural Network:\n",
    "\n",
    "1. At the state $s_t$, select the action $a_t$ with best reward using $Q_t$ and store the results;\n",
    "\n",
    "2. Obtain the new state $s_{t+1}$ from the environment $p$;\n",
    "\n",
    "3. Store $(s_t,a_t,s_{t+1})$;\n",
    "\n",
    "4. Obtain $Q_{t+1}$ by minimizing  $\\mathcal{L}$ from a recovered batch from the previously stored results.\n",
    "\n",
    "***\n",
    "__Question 6__ Implement the class ```Memory``` that stores moves (in a replay buffer) via ```remember``` and provides a ```random_access``` to these. Specify a maximum memory size to avoid side effects. You can for example use a ```list()``` and set by default ```max_memory=100```."
   ]
  },
  {
   "cell_type": "code",
   "execution_count": 9,
   "metadata": {},
   "outputs": [],
   "source": [
    "class Memory(object):\n",
    "    def __init__(self, max_memory=100):\n",
    "        self.max_memory = max_memory\n",
    "        self.memory = list()\n",
    "\n",
    "    def remember(self, m):\n",
    "        self.memory.append(m)\n",
    "        if len(self.memory) > self.max_memory:\n",
    "            del self.memory[0]\n",
    "\n",
    "    def random_access(self):\n",
    "        return self.memory[np.random.choice(len(self.memory))]"
   ]
  },
  {
   "cell_type": "markdown",
   "metadata": {},
   "source": [
    "***\n",
    "The pipeline we will use for training is given below:"
   ]
  },
  {
   "cell_type": "code",
   "execution_count": 10,
   "metadata": {},
   "outputs": [],
   "source": [
    "def train(agent,env,epoch,prefix=''):\n",
    "    # Number of won games\n",
    "    score = 0\n",
    "    loss = 0\n",
    "\n",
    "    for e in range(epoch):\n",
    "        # At each epoch, we restart to a fresh game and get the initial state\n",
    "        state = env.reset()\n",
    "        # This assumes that the games will terminate\n",
    "        game_over = False\n",
    "\n",
    "        win = 0\n",
    "        lose = 0\n",
    "\n",
    "        while not game_over:\n",
    "            # The agent performs an action\n",
    "            action = agent.act(state)\n",
    "\n",
    "            # Apply an action to the environment, get the next state, the reward\n",
    "            # and if the games end\n",
    "            prev_state = state\n",
    "            state, reward, game_over = env.act(action)\n",
    "\n",
    "            # Update the counters\n",
    "            if reward > 0:\n",
    "                win = win + reward\n",
    "            if reward < 0:\n",
    "                lose = lose -reward\n",
    "\n",
    "            # Apply the reinforcement strategy\n",
    "            loss = agent.reinforce(prev_state, state,  action, reward, game_over)\n",
    "\n",
    "        # Save as a mp4\n",
    "        if e % 10 == 0:\n",
    "            env.draw(prefix+str(e))\n",
    "\n",
    "        # Update stats\n",
    "        score += win-lose\n",
    "\n",
    "        print(\"Epoch {:03d}/{:03d} | Loss {:.4f} | Win/lose count {}/{} ({})\"\n",
    "              .format(e, epoch, loss, win, lose, win-lose))\n",
    "        agent.save(name_weights=prefix+'model.h5',name_model=prefix+'model.json')"
   ]
  },
  {
   "cell_type": "markdown",
   "metadata": {},
   "source": [
    "***\n",
    "__Question 7__ Implement the DQN training algorithm using a cascade of fully connected layers. You can use different learning rate, batch size or memory size parameters. In particular, the loss might oscillate while the player will start to win the games. You have to find a good criterium."
   ]
  },
  {
   "cell_type": "code",
   "execution_count": 11,
   "metadata": {},
   "outputs": [],
   "source": [
    "class DQN(Agent):\n",
    "    def __init__(self, grid_size,  epsilon = 0.1, memory_size=100, batch_size = 16,n_state=2):\n",
    "        super(DQN, self).__init__(epsilon = epsilon)\n",
    "\n",
    "        # Discount for Q learning\n",
    "        self.discount = 0.99\n",
    "        \n",
    "        self.grid_size = grid_size\n",
    "        \n",
    "        # number of state\n",
    "        self.n_state = n_state\n",
    "\n",
    "        # Memory\n",
    "        self.memory = Memory(memory_size)\n",
    "        \n",
    "        # Batch size when learning\n",
    "        self.batch_size = batch_size\n",
    "\n",
    "    def learned_act(self, s):\n",
    "        s = np.expand_dims(s,axis=0)\n",
    "        a = np.argmax(self.model.predict(s))\n",
    "        return a\n",
    "\n",
    "    def reinforce(self, s_, n_s_, a_, r_, game_over_):\n",
    "        # Two steps: first memorize the states, second learn from the pool\n",
    "\n",
    "        self.memory.remember([s_, n_s_, a_, r_, game_over_])\n",
    "        \n",
    "        input_states = np.zeros((self.batch_size, 5,5,self.n_state))\n",
    "        target_q = np.zeros((self.batch_size, 4))\n",
    "        \n",
    "        \n",
    "        for i in range(self.batch_size):\n",
    "            \n",
    "            state, n_state, action, reward, game_over_ = self.memory.random_access()\n",
    "            input_states[i] = state\n",
    "            target_q[i] = self.model.predict(state.reshape(1, 5, 5, self.n_state))\n",
    "            \n",
    "            n_state = n_state.reshape(1, 5, 5, self.n_state) \n",
    "            \n",
    "            if game_over_:\n",
    "                target_q[i][action] = reward\n",
    "                \n",
    "            else:\n",
    "                target_q[i][action] = reward + self.discount * np.max(self.model.predict(n_state))\n",
    "                \n",
    "                \n",
    "        # HINT: Clip the target to avoid exploiding gradients.. -- clipping is a bit tighter\n",
    "        target_q = np.clip(target_q, -3, 3)\n",
    "\n",
    "        l = self.model.train_on_batch(input_states, target_q)\n",
    "\n",
    "        return l\n",
    "\n",
    "    def save(self,name_weights='model.h5',name_model='model.json'):\n",
    "        self.model.save_weights(name_weights, overwrite=True)\n",
    "        with open(name_model, \"w\") as outfile:\n",
    "            json.dump(self.model.to_json(), outfile)\n",
    "            \n",
    "    def load(self,name_weights='model.h5',name_model='model.json'):\n",
    "        with open(name_model, \"r\") as jfile:\n",
    "            model = model_from_json(json.load(jfile))\n",
    "        model.load_weights(name_weights)\n",
    "        model.compile(\"sgd\", \"mse\")\n",
    "        self.model = model\n",
    "\n",
    "            \n",
    "class DQN_FC(DQN):\n",
    "    def __init__(self, *args, lr=0.1,**kwargs):\n",
    "        super(DQN_FC, self).__init__( *args,**kwargs)\n",
    "        \n",
    "        # NN Model\n",
    "        \n",
    "        \n",
    "        model = Sequential()\n",
    "        model.add(Flatten(input_shape= (5, 5, self.n_state)))\n",
    "        model.add((Dense(32, activation='relu')))\n",
    "        model.add((Dense(16, activation='relu')))\n",
    "        model.add(Dense(self.n_action, activation='linear'))\n",
    "\n",
    "        \n",
    "        model.compile(sgd(lr=lr, decay=1e-4, momentum=0.0), \"mse\")\n",
    "        self.model = model\n",
    "        "
   ]
  },
  {
   "cell_type": "code",
   "execution_count": 12,
   "metadata": {},
   "outputs": [
    {
     "name": "stdout",
     "output_type": "stream",
     "text": [
      "WARNING:tensorflow:From /Users/tristandot/.local/lib/python3.6/site-packages/Keras-2.0.2-py3.6.egg/keras/backend/tensorflow_backend.py:47: The name tf.get_default_graph is deprecated. Please use tf.compat.v1.get_default_graph instead.\n",
      "\n",
      "WARNING:tensorflow:From /Users/tristandot/.local/lib/python3.6/site-packages/Keras-2.0.2-py3.6.egg/keras/backend/tensorflow_backend.py:349: The name tf.placeholder is deprecated. Please use tf.compat.v1.placeholder instead.\n",
      "\n",
      "WARNING:tensorflow:From /Users/tristandot/.local/lib/python3.6/site-packages/Keras-2.0.2-py3.6.egg/keras/backend/tensorflow_backend.py:1062: calling reduce_prod_v1 (from tensorflow.python.ops.math_ops) with keep_dims is deprecated and will be removed in a future version.\n",
      "Instructions for updating:\n",
      "keep_dims is deprecated, use keepdims instead\n",
      "WARNING:tensorflow:From /Users/tristandot/.local/lib/python3.6/site-packages/Keras-2.0.2-py3.6.egg/keras/backend/tensorflow_backend.py:3145: The name tf.random_uniform is deprecated. Please use tf.random.uniform instead.\n",
      "\n",
      "WARNING:tensorflow:From /Users/tristandot/.local/lib/python3.6/site-packages/Keras-2.0.2-py3.6.egg/keras/optimizers.py:675: The name tf.train.Optimizer is deprecated. Please use tf.compat.v1.train.Optimizer instead.\n",
      "\n",
      "WARNING:tensorflow:From /Users/tristandot/.local/lib/python3.6/site-packages/Keras-2.0.2-py3.6.egg/keras/backend/tensorflow_backend.py:140: The name tf.get_default_session is deprecated. Please use tf.compat.v1.get_default_session instead.\n",
      "\n",
      "WARNING:tensorflow:From /Users/tristandot/.local/lib/python3.6/site-packages/Keras-2.0.2-py3.6.egg/keras/backend/tensorflow_backend.py:145: The name tf.ConfigProto is deprecated. Please use tf.compat.v1.ConfigProto instead.\n",
      "\n",
      "WARNING:tensorflow:From /Users/tristandot/.local/lib/python3.6/site-packages/Keras-2.0.2-py3.6.egg/keras/backend/tensorflow_backend.py:150: The name tf.Session is deprecated. Please use tf.compat.v1.Session instead.\n",
      "\n",
      "WARNING:tensorflow:From /Users/tristandot/.local/lib/python3.6/site-packages/Keras-2.0.2-py3.6.egg/keras/backend/tensorflow_backend.py:298: The name tf.global_variables is deprecated. Please use tf.compat.v1.global_variables instead.\n",
      "\n",
      "WARNING:tensorflow:From /Users/tristandot/.local/lib/python3.6/site-packages/Keras-2.0.2-py3.6.egg/keras/backend/tensorflow_backend.py:306: The name tf.variables_initializer is deprecated. Please use tf.compat.v1.variables_initializer instead.\n",
      "\n",
      "WARNING:tensorflow:Variable *= will be deprecated. Use `var.assign(var * other)` if you want assignment to the variable value or `x = x * y` if you want a new python Tensor object.\n",
      "WARNING:tensorflow:From /Users/tristandot/.local/lib/python3.6/site-packages/Keras-2.0.2-py3.6.egg/keras/backend/tensorflow_backend.py:766: The name tf.assign_add is deprecated. Please use tf.compat.v1.assign_add instead.\n",
      "\n",
      "WARNING:tensorflow:From /Users/tristandot/.local/lib/python3.6/site-packages/Keras-2.0.2-py3.6.egg/keras/backend/tensorflow_backend.py:519: calling Constant.__init__ (from tensorflow.python.ops.init_ops) with dtype is deprecated and will be removed in a future version.\n",
      "Instructions for updating:\n",
      "Call initializer instance with the dtype argument instead of passing it to the constructor\n",
      "WARNING:tensorflow:From /Users/tristandot/.local/lib/python3.6/site-packages/Keras-2.0.2-py3.6.egg/keras/backend/tensorflow_backend.py:762: The name tf.assign is deprecated. Please use tf.compat.v1.assign instead.\n",
      "\n",
      "Epoch 000/020 | Loss 0.0273 | Win/lose count 1.0/3.0 (-2.0)\n",
      "Epoch 001/020 | Loss 0.0117 | Win/lose count 4.5/4.0 (0.5)\n",
      "Epoch 002/020 | Loss 0.0138 | Win/lose count 3.0/1.0 (2.0)\n",
      "Epoch 003/020 | Loss 0.0137 | Win/lose count 3.0/5.0 (-2.0)\n",
      "Epoch 004/020 | Loss 0.0266 | Win/lose count 5.5/4.0 (1.5)\n",
      "Epoch 005/020 | Loss 0.0328 | Win/lose count 3.0/0 (3.0)\n",
      "Epoch 006/020 | Loss 0.0449 | Win/lose count 6.5/4.0 (2.5)\n",
      "Epoch 007/020 | Loss 0.0119 | Win/lose count 3.5/3.0 (0.5)\n",
      "Epoch 008/020 | Loss 0.0249 | Win/lose count 4.0/3.0 (1.0)\n",
      "Epoch 009/020 | Loss 0.0306 | Win/lose count 8.5/8.0 (0.5)\n",
      "Epoch 010/020 | Loss 0.0124 | Win/lose count 2.0/5.0 (-3.0)\n",
      "Epoch 011/020 | Loss 0.0268 | Win/lose count 4.0/3.0 (1.0)\n",
      "Epoch 012/020 | Loss 0.0232 | Win/lose count 2.0/2.0 (0.0)\n",
      "Epoch 013/020 | Loss 0.0299 | Win/lose count 5.5/4.0 (1.5)\n",
      "Epoch 014/020 | Loss 0.0205 | Win/lose count 4.5/5.0 (-0.5)\n",
      "Epoch 015/020 | Loss 0.0288 | Win/lose count 6.0/1.0 (5.0)\n",
      "Epoch 016/020 | Loss 0.0144 | Win/lose count 4.0/4.0 (0.0)\n",
      "Epoch 017/020 | Loss 0.0117 | Win/lose count 6.5/4.0 (2.5)\n",
      "Epoch 018/020 | Loss 0.0128 | Win/lose count 5.0/8.0 (-3.0)\n",
      "Epoch 019/020 | Loss 0.0216 | Win/lose count 2.5/1.0 (1.5)\n"
     ]
    },
    {
     "data": {
      "text/html": [
       "<video alt=\"test\" controls>\n",
       "                <source src=\"data:video/mp4;base64,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\" type=\"video/mp4\" />\n",
       "             </video>"
      ],
      "text/plain": [
       "<IPython.core.display.HTML object>"
      ]
     },
     "execution_count": 12,
     "metadata": {},
     "output_type": "execute_result"
    }
   ],
   "source": [
    "env = Environment(grid_size=size, max_time=T, temperature=0.3)\n",
    "agent = DQN_FC(size, lr=.001, epsilon = 0.1, memory_size=2000, batch_size = 32)\n",
    "train(agent, env, epochs_train, prefix='fc_train')\n",
    "HTML(display_videos('fc_train10.mp4'))"
   ]
  },
  {
   "cell_type": "markdown",
   "metadata": {},
   "source": [
    "***\n",
    "***\n",
    "__Question 8__ Implement the DQN training algorithm using a CNN (for example, 2 convolutional layers and one final fully connected layer)."
   ]
  },
  {
   "cell_type": "code",
   "execution_count": 13,
   "metadata": {},
   "outputs": [],
   "source": [
    "class DQN_CNN(DQN):\n",
    "    def __init__(self, *args,lr=0.1,**kwargs):\n",
    "        super(DQN_CNN, self).__init__(*args,**kwargs)\n",
    "        \n",
    "        ###### FILL IN\n",
    "        \n",
    "        input_shape = (5, 5, self.n_state)\n",
    "        model = Sequential()\n",
    "        model.add(Conv2D(64, (2,2), input_shape=input_shape, activation='relu'))\n",
    "        model.add(Conv2D(32, (2,2), activation='relu'),)\n",
    "        model.add(Flatten())\n",
    "        model.add(Dense(self.n_action, activation=None))\n",
    "        \n",
    "        \n",
    "        model.compile(adam(lr=lr, decay=1e-4), \"mse\")\n",
    "        self.model = model"
   ]
  },
  {
   "cell_type": "code",
   "execution_count": 14,
   "metadata": {},
   "outputs": [
    {
     "name": "stdout",
     "output_type": "stream",
     "text": [
      "WARNING:tensorflow:Variable *= will be deprecated. Use `var.assign(var * other)` if you want assignment to the variable value or `x = x * y` if you want a new python Tensor object.\n",
      "Epoch 000/020 | Loss 0.0033 | Win/lose count 4.0/6.0 (-2.0)\n",
      "Epoch 001/020 | Loss 0.0025 | Win/lose count 7.0/5.0 (2.0)\n",
      "Epoch 002/020 | Loss 0.0698 | Win/lose count 9.5/3.0 (6.5)\n",
      "Epoch 003/020 | Loss 0.0046 | Win/lose count 10.5/6.0 (4.5)\n",
      "Epoch 004/020 | Loss 0.0033 | Win/lose count 6.0/4.0 (2.0)\n",
      "Epoch 005/020 | Loss 0.0348 | Win/lose count 7.5/2.0 (5.5)\n",
      "Epoch 006/020 | Loss 0.0027 | Win/lose count 8.0/2.0 (6.0)\n",
      "Epoch 007/020 | Loss 0.0018 | Win/lose count 2.0/3.0 (-1.0)\n",
      "Epoch 008/020 | Loss 0.0017 | Win/lose count 4.5/0 (4.5)\n",
      "Epoch 009/020 | Loss 0.0753 | Win/lose count 7.0/0 (7.0)\n",
      "Epoch 010/020 | Loss 0.0018 | Win/lose count 11.5/1.0 (10.5)\n",
      "Epoch 011/020 | Loss 0.0026 | Win/lose count 12.0/2.0 (10.0)\n",
      "Epoch 012/020 | Loss 0.0017 | Win/lose count 11.5/2.0 (9.5)\n",
      "Epoch 013/020 | Loss 0.0031 | Win/lose count 14.0/4.0 (10.0)\n",
      "Epoch 014/020 | Loss 0.0037 | Win/lose count 7.0/4.0 (3.0)\n",
      "Epoch 015/020 | Loss 0.0024 | Win/lose count 16.0/1.0 (15.0)\n",
      "Epoch 016/020 | Loss 0.0009 | Win/lose count 18.0/1.0 (17.0)\n",
      "Epoch 017/020 | Loss 0.0111 | Win/lose count 7.0/1.0 (6.0)\n",
      "Epoch 018/020 | Loss 0.0010 | Win/lose count 5.0/2.0 (3.0)\n",
      "Epoch 019/020 | Loss 0.0016 | Win/lose count 15.0/5.0 (10.0)\n"
     ]
    },
    {
     "data": {
      "text/html": [
       "<video alt=\"test\" controls>\n",
       "                <source src=\"data:video/mp4;base64,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\" type=\"video/mp4\" />\n",
       "             </video>"
      ],
      "text/plain": [
       "<IPython.core.display.HTML object>"
      ]
     },
     "execution_count": 14,
     "metadata": {},
     "output_type": "execute_result"
    }
   ],
   "source": [
    "env = Environment(grid_size=size, max_time=T, temperature=0.3)\n",
    "agent = DQN_CNN(size, lr=.001, epsilon = 0.1, memory_size=2000, batch_size = 32)\n",
    "train(agent,env,epochs_train,prefix='cnn_train')\n",
    "HTML(display_videos('cnn_train10.mp4'))"
   ]
  },
  {
   "cell_type": "markdown",
   "metadata": {},
   "source": [
    "***\n",
    "***\n",
    "__Question 9__ Test both algorithms and compare their performances. Which issue(s) do you observe? Observe also different behaviors by changing the temperature."
   ]
  },
  {
   "cell_type": "code",
   "execution_count": 15,
   "metadata": {},
   "outputs": [
    {
     "name": "stdout",
     "output_type": "stream",
     "text": [
      "Temperature = 0.3\n",
      "Test of the CNN\n",
      "Win/lose count 0.5/0. Average score (0.5)\n",
      "Win/lose count 0.5/0. Average score (0.5)\n",
      "Win/lose count 2.0/5.0. Average score (-0.6666666666666666)\n",
      "Win/lose count 1.0/1.0. Average score (-0.5)\n",
      "Win/lose count 0/1.0. Average score (-0.6)\n",
      "Win/lose count 1.0/0. Average score (-0.3333333333333333)\n",
      "Win/lose count 0.5/0. Average score (-0.21428571428571427)\n",
      "Win/lose count 0/0. Average score (-0.1875)\n",
      "Win/lose count 1.5/3.0. Average score (-0.3333333333333333)\n",
      "Win/lose count 0.5/0. Average score (-0.25)\n",
      "Win/lose count 0.5/0. Average score (-0.18181818181818182)\n",
      "Win/lose count 1.0/1.0. Average score (-0.16666666666666666)\n",
      "Win/lose count 0.5/1.0. Average score (-0.19230769230769232)\n",
      "Win/lose count 0/0. Average score (-0.17857142857142858)\n",
      "Win/lose count 2.0/0. Average score (-0.03333333333333333)\n",
      "Win/lose count 0.5/0. Average score (0.0)\n",
      "Win/lose count 2.0/2.0. Average score (0.0)\n",
      "Win/lose count 2.5/2.0. Average score (0.027777777777777776)\n",
      "Win/lose count 1.0/1.0. Average score (0.02631578947368421)\n",
      "Win/lose count 2.0/3.0. Average score (-0.025)\n",
      "Final score: -0.025\n",
      "Test of the FC\n",
      "Win/lose count 1.5/3.0. Average score (-1.5)\n",
      "Win/lose count 0/0. Average score (-0.75)\n",
      "Win/lose count 0.5/1.0. Average score (-0.6666666666666666)\n",
      "Win/lose count 0.5/0. Average score (-0.375)\n",
      "Win/lose count 0/1.0. Average score (-0.5)\n",
      "Win/lose count 0.5/0. Average score (-0.3333333333333333)\n",
      "Win/lose count 0.5/0. Average score (-0.21428571428571427)\n",
      "Win/lose count 0.5/1.0. Average score (-0.25)\n",
      "Win/lose count 0/1.0. Average score (-0.3333333333333333)\n",
      "Win/lose count 0.5/3.0. Average score (-0.55)\n",
      "Win/lose count 0/0. Average score (-0.5)\n",
      "Win/lose count 1.5/1.0. Average score (-0.4166666666666667)\n",
      "Win/lose count 0/0. Average score (-0.38461538461538464)\n",
      "Win/lose count 1.0/0. Average score (-0.2857142857142857)\n",
      "Win/lose count 0/0. Average score (-0.26666666666666666)\n",
      "Win/lose count 0.5/0. Average score (-0.21875)\n",
      "Win/lose count 0/1.0. Average score (-0.2647058823529412)\n",
      "Win/lose count 0.5/0. Average score (-0.2222222222222222)\n",
      "Win/lose count 0.5/1.0. Average score (-0.23684210526315788)\n",
      "Win/lose count 0/2.0. Average score (-0.325)\n",
      "Final score: -0.325\n"
     ]
    }
   ],
   "source": [
    "print('Temperature = 0.3')\n",
    "env = Environment(grid_size=size, max_time=T,temperature=0.3)\n",
    "agent_cnn = DQN_CNN(size, lr=.1, epsilon = 0.1, memory_size=2000, batch_size = 32)\n",
    "agent_cnn.load(name_weights='cnn_trainmodel.h5',name_model='cnn_trainmodel.json')\n",
    "\n",
    "agent_fc = DQN_FC(size, lr=.1, epsilon = 0.1, memory_size=2000, batch_size = 32)\n",
    "agent_cnn.load(name_weights='fc_trainmodel.h5',name_model='fc_trainmodel.json')\n",
    "print('Test of the CNN')\n",
    "test(agent_cnn,env,epochs_test,prefix='cnn_test')\n",
    "print('Test of the FC')\n",
    "test(agent_fc,env,epochs_test,prefix='fc_test')\n"
   ]
  },
  {
   "cell_type": "code",
   "execution_count": 16,
   "metadata": {},
   "outputs": [
    {
     "data": {
      "text/html": [
       "<video alt=\"test\" controls>\n",
       "                <source src=\"data:video/mp4;base64,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\" type=\"video/mp4\" />\n",
       "             </video>"
      ],
      "text/plain": [
       "<IPython.core.display.HTML object>"
      ]
     },
     "execution_count": 16,
     "metadata": {},
     "output_type": "execute_result"
    }
   ],
   "source": [
    "HTML(display_videos('cnn_test10.mp4'))"
   ]
  },
  {
   "cell_type": "code",
   "execution_count": 17,
   "metadata": {},
   "outputs": [
    {
     "data": {
      "text/html": [
       "<video alt=\"test\" controls>\n",
       "                <source src=\"data:video/mp4;base64,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\" type=\"video/mp4\" />\n",
       "             </video>"
      ],
      "text/plain": [
       "<IPython.core.display.HTML object>"
      ]
     },
     "execution_count": 17,
     "metadata": {},
     "output_type": "execute_result"
    }
   ],
   "source": [
    "HTML(display_videos('fc_test10.mp4'))"
   ]
  },
  {
   "cell_type": "markdown",
   "metadata": {},
   "source": [
    "The scores appear better with a large tempature value: this is logical, the temperature parameter controls the amount of rewards and maluses on the island, and the greature the temperature is, the more rewards there will be.\n",
    "\n",
    "For the moment, it appears that the rat tends to get stuck in local maximum of Q-function (such as corners): it lacks information on the environment, and needs to explore more. When the temperature increases, this exploration naturally increases. But we can also force it by increasing the $\\epsilon$ parameter.\n",
    "\n",
    "If we compare the scores of the two agents, the CNN network (which takes into account the structure of the grid) seems to perform slightly better than the FC network.\n"
   ]
  },
  {
   "cell_type": "markdown",
   "metadata": {},
   "source": [
    "***\n",
    "\n",
    "The algorithm tends to not explore the map which can be an issue. We propose two ideas in order to encourage exploration:\n",
    "1. Incorporating a decreasing $\\epsilon$-greedy exploration. You can use the method ```set_epsilon```\n",
    "2. Append via the environment a new state that describes if a cell has been visited or not\n",
    "\n",
    "***\n",
    "__Question 10__ Design a new ```train_explore``` function and environment class ```EnvironmentExploring``` to tackle the issue of exploration.\n",
    "\n"
   ]
  },
  {
   "cell_type": "code",
   "execution_count": 21,
   "metadata": {},
   "outputs": [],
   "source": [
    "def train_explore(agent,env,epoch,decay_epsilon=0.8,prefix=''):\n",
    "    # Number of won games\n",
    "    score = 0\n",
    "    loss = 0\n",
    "\n",
    "    for e in range(epoch):\n",
    "        # At each epoch, we restart to a fresh game and get the initial state\n",
    "        state = env.reset()\n",
    "        # This assumes that the games will terminate\n",
    "        game_over = False\n",
    "\n",
    "        win = 0\n",
    "        lose = 0\n",
    "            \n",
    "        while not game_over:\n",
    "            # The agent performs an action\n",
    "            action = agent.act(state)\n",
    "\n",
    "            # Apply an action to the environment, get the next state, the reward\n",
    "            # and if the games end\n",
    "            prev_state = state\n",
    "            state, reward, game_over = env.act(action, train=True)\n",
    "\n",
    "            # Update the counters\n",
    "            if reward > 0:\n",
    "                win = win + reward\n",
    "            if reward < 0:\n",
    "                lose = lose -reward\n",
    "\n",
    "            # Apply the reinforcement strategy\n",
    "            loss = agent.reinforce(prev_state, state,  action, reward, game_over)\n",
    "        \n",
    "        agent.set_epsilon(agent.epsilon*(decay_epsilon))\n",
    "            \n",
    "        # Save as a mp4\n",
    "        if e % 10 == 0:\n",
    "            env.draw(prefix+str(e))\n",
    "\n",
    "        # Update stats\n",
    "        score += win-lose\n",
    "\n",
    "        print(\"Epoch {:03d}/{:03d} | Loss {:.4f} | Win/lose count {}/{} ({})\"\n",
    "              .format(e, epoch, loss, win, lose, win-lose))\n",
    "        agent.save(name_weights=prefix+'model.h5',name_model=prefix+'model.json')\n",
    "        "
   ]
  },
  {
   "cell_type": "code",
   "execution_count": 22,
   "metadata": {},
   "outputs": [],
   "source": [
    "\n",
    "class EnvironmentExploring(object):\n",
    "    def __init__(self, grid_size=10, max_time=500, temperature=0.1):\n",
    "        grid_size = grid_size+4\n",
    "        self.grid_size = grid_size\n",
    "        self.max_time = max_time\n",
    "        self.temperature = temperature\n",
    "\n",
    "        #board on which one plays\n",
    "        self.board = np.zeros((grid_size,grid_size))\n",
    "        self.position = np.zeros((grid_size,grid_size))\n",
    "        self.malus_position = np.zeros((grid_size,grid_size))\n",
    "\n",
    "        # coordinate of the cat\n",
    "        self.x = 0\n",
    "        self.y = 1\n",
    "\n",
    "        # self time\n",
    "        self.t = 0\n",
    "\n",
    "        self.scale=16\n",
    "\n",
    "        self.to_draw = np.zeros((max_time+2, grid_size*self.scale, grid_size*self.scale, 3))\n",
    "\n",
    "\n",
    "    def draw(self,e):\n",
    "        skvideo.io.vwrite(str(e) + '.mp4', self.to_draw)\n",
    "\n",
    "    def get_frame(self,t):\n",
    "        b = np.zeros((self.grid_size,self.grid_size,3))+128\n",
    "        b[self.board>0,0] = 256\n",
    "        b[self.board < 0, 2] = 256\n",
    "        b[self.x,self.y,:]=256\n",
    "        b[-2:,:,:]=0\n",
    "        b[:,-2:,:]=0\n",
    "        b[:2,:,:]=0\n",
    "        b[:,:2,:]=0\n",
    "        \n",
    "        b =  cv2.resize(b, None, fx=self.scale, fy=self.scale, interpolation=cv2.INTER_NEAREST)\n",
    "\n",
    "        self.to_draw[t,:,:,:]=b\n",
    "\n",
    "\n",
    "    def act(self, action, train=False):\n",
    "        \"\"\"This function returns the new state, reward and decides if the\n",
    "        game ends.\"\"\"\n",
    "\n",
    "        self.get_frame(int(self.t))\n",
    "\n",
    "        self.position = np.zeros((self.grid_size, self.grid_size))\n",
    "        self.malus_position = np.zeros((self.grid_size,self.grid_size))\n",
    "\n",
    "        self.position[0:2,:]= -1\n",
    "        self.position[:,0:2] = -1\n",
    "        self.position[-2:, :] = -1\n",
    "        self.position[-2:, :] = -1\n",
    "\n",
    "        self.position[self.x, self.y] = 1\n",
    "        if action == 0:\n",
    "            if self.x == self.grid_size-3:\n",
    "                self.x = self.x-1\n",
    "            else:\n",
    "                self.x = self.x + 1\n",
    "        elif action == 1:\n",
    "            if self.x == 2:\n",
    "                self.x = self.x+1\n",
    "            else:\n",
    "                self.x = self.x-1\n",
    "        elif action == 2:\n",
    "            if self.y == self.grid_size - 3:\n",
    "                self.y = self.y - 1\n",
    "            else:\n",
    "                self.y = self.y + 1\n",
    "        elif action == 3:\n",
    "            if self.y == 2:\n",
    "                self.y = self.y + 1\n",
    "            else:\n",
    "                self.y = self.y - 1\n",
    "        else:\n",
    "            RuntimeError('Error: action not recognized')\n",
    "\n",
    "        self.t = self.t + 1\n",
    "        reward = self.board[self.x, self.y]\n",
    "        self.board[self.x, self.y] = 0\n",
    "        game_over = self.t > self.max_time\n",
    "        \n",
    "        if train:\n",
    "            reward -= self.malus_position[self.x, self.y]\n",
    "        \n",
    "        self.malus_position[self.x, self.y] = 0.5\n",
    "            \n",
    "            \n",
    "        state = np.concatenate((self.malus_position.reshape(self.grid_size, self.grid_size,1),\n",
    "                                self.board.reshape(self.grid_size, self.grid_size,1),\n",
    "                        self.position.reshape(self.grid_size, self.grid_size,1)),axis=2)\n",
    "        state = state[self.x-2:self.x+3,self.y-2:self.y+3,:]\n",
    "\n",
    "        return state, reward, game_over\n",
    "\n",
    "    def reset(self):\n",
    "        \"\"\"This function resets the game and returns the initial state\"\"\"\n",
    "\n",
    "        self.x = np.random.randint(3, self.grid_size-3, size=1)[0]\n",
    "        self.y = np.random.randint(3, self.grid_size-3, size=1)[0]\n",
    "\n",
    "\n",
    "        bonus = 0.5*np.random.binomial(1,self.temperature,size=self.grid_size**2)\n",
    "        bonus = bonus.reshape(self.grid_size,self.grid_size)\n",
    "\n",
    "        malus = -1.0*np.random.binomial(1,self.temperature,size=self.grid_size**2)\n",
    "        malus = malus.reshape(self.grid_size, self.grid_size)\n",
    "\n",
    "        self.to_draw = np.zeros((self.max_time+2, self.grid_size*self.scale, self.grid_size*self.scale, 3))\n",
    "\n",
    "\n",
    "        malus[bonus>0]=0\n",
    "\n",
    "        self.board = bonus + malus\n",
    "\n",
    "        self.position = np.zeros((self.grid_size, self.grid_size))\n",
    "        self.position[0:2,:]= -1\n",
    "        self.position[:,0:2] = -1\n",
    "        self.position[-2:, :] = -1\n",
    "        self.position[-2:, :] = -1\n",
    "        self.board[self.x,self.y] = 0\n",
    "        self.t = 0\n",
    "        \n",
    "        self.malus_position = np.zeros((self.grid_size, self.grid_size))\n",
    "\n",
    "        state = np.concatenate((self.malus_position.reshape(self.grid_size, self.grid_size,1),\n",
    "                               self.board.reshape(self.grid_size, self.grid_size,1),\n",
    "                        self.position.reshape(self.grid_size, self.grid_size,1)),axis=2)\n",
    "\n",
    "        state = state[self.x - 2:self.x + 3, self.y - 2:self.y + 3, :]\n",
    "        return state"
   ]
  },
  {
   "cell_type": "code",
   "execution_count": 23,
   "metadata": {},
   "outputs": [
    {
     "name": "stdout",
     "output_type": "stream",
     "text": [
      "Epoch 000/030 | Loss 0.0032 | Win/lose count 10.5/16.0 (-5.5)\n",
      "Epoch 001/030 | Loss 0.0074 | Win/lose count 12.0/10.0 (2.0)\n",
      "Epoch 002/030 | Loss 0.0024 | Win/lose count 9.5/13.0 (-3.5)\n",
      "Epoch 003/030 | Loss 0.0032 | Win/lose count 6.0/8.0 (-2.0)\n",
      "Epoch 004/030 | Loss 0.1807 | Win/lose count 12.0/11.0 (1.0)\n",
      "Epoch 005/030 | Loss 0.0094 | Win/lose count 9.5/10.0 (-0.5)\n",
      "Epoch 006/030 | Loss 0.0021 | Win/lose count 9.0/7.0 (2.0)\n",
      "Epoch 007/030 | Loss 0.0033 | Win/lose count 14.0/8.0 (6.0)\n",
      "Epoch 008/030 | Loss 0.0020 | Win/lose count 7.5/2.0 (5.5)\n",
      "Epoch 009/030 | Loss 0.0014 | Win/lose count 8.0/4.0 (4.0)\n",
      "Epoch 010/030 | Loss 0.0145 | Win/lose count 10.5/1.0 (9.5)\n",
      "Epoch 011/030 | Loss 0.0015 | Win/lose count 6.5/2.0 (4.5)\n",
      "Epoch 012/030 | Loss 0.0020 | Win/lose count 1.5/2.0 (-0.5)\n",
      "Epoch 013/030 | Loss 0.0029 | Win/lose count 9.0/3.0 (6.0)\n",
      "Epoch 014/030 | Loss 0.0033 | Win/lose count 1.5/0 (1.5)\n",
      "Epoch 015/030 | Loss 0.0045 | Win/lose count 5.0/0 (5.0)\n",
      "Epoch 016/030 | Loss 0.0008 | Win/lose count 4.5/3.0 (1.5)\n",
      "Epoch 017/030 | Loss 0.0013 | Win/lose count 10.0/1.0 (9.0)\n",
      "Epoch 018/030 | Loss 0.0015 | Win/lose count 3.5/1.0 (2.5)\n",
      "Epoch 019/030 | Loss 0.0053 | Win/lose count 9.5/0 (9.5)\n",
      "Epoch 020/030 | Loss 0.0012 | Win/lose count 10.0/1.0 (9.0)\n",
      "Epoch 021/030 | Loss 0.0038 | Win/lose count 3.5/1.0 (2.5)\n",
      "Epoch 022/030 | Loss 0.0016 | Win/lose count 4.5/0 (4.5)\n",
      "Epoch 023/030 | Loss 0.0008 | Win/lose count 13.5/2.0 (11.5)\n",
      "Epoch 024/030 | Loss 0.0023 | Win/lose count 5.0/1.0 (4.0)\n",
      "Epoch 025/030 | Loss 0.0016 | Win/lose count 12.0/3.0 (9.0)\n",
      "Epoch 026/030 | Loss 0.0011 | Win/lose count 5.5/0 (5.5)\n",
      "Epoch 027/030 | Loss 0.0024 | Win/lose count 2.0/0 (2.0)\n",
      "Epoch 028/030 | Loss 0.0934 | Win/lose count 5.0/0 (5.0)\n",
      "Epoch 029/030 | Loss 0.0025 | Win/lose count 5.5/0 (5.5)\n"
     ]
    },
    {
     "data": {
      "text/html": [
       "<video alt=\"test\" controls>\n",
       "                <source src=\"data:video/mp4;base64,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\" type=\"video/mp4\" />\n",
       "             </video>"
      ],
      "text/plain": [
       "<IPython.core.display.HTML object>"
      ]
     },
     "execution_count": 23,
     "metadata": {},
     "output_type": "execute_result"
    }
   ],
   "source": [
    "# Training\n",
    "epochs_train=30\n",
    "env = EnvironmentExploring(grid_size=size, max_time=T, temperature=0.3)\n",
    "agent = DQN_CNN(size, lr=.001, epsilon = 1, memory_size=2000, batch_size = 32,n_state=3)\n",
    "train_explore(agent, env, epochs_train, prefix='cnn_train_explore')\n",
    "HTML(display_videos('cnn_train_explore10.mp4'))"
   ]
  },
  {
   "cell_type": "code",
   "execution_count": 25,
   "metadata": {},
   "outputs": [
    {
     "name": "stdout",
     "output_type": "stream",
     "text": [
      "Win/lose count 4.0/0. Average score (4.0)\n",
      "Win/lose count 1.5/0. Average score (2.75)\n",
      "Win/lose count 8.5/0. Average score (4.666666666666667)\n",
      "Win/lose count 2.0/0. Average score (4.0)\n",
      "Win/lose count 1.0/0. Average score (3.4)\n",
      "Win/lose count 8.0/0. Average score (4.166666666666667)\n",
      "Win/lose count 2.0/0. Average score (3.857142857142857)\n",
      "Win/lose count 1.0/0. Average score (3.5)\n",
      "Win/lose count 7.5/0. Average score (3.9444444444444446)\n",
      "Win/lose count 0.5/0. Average score (3.6)\n",
      "Win/lose count 5.5/1.0. Average score (3.6818181818181817)\n",
      "Win/lose count 2.0/0. Average score (3.5416666666666665)\n",
      "Win/lose count 6.5/0. Average score (3.769230769230769)\n",
      "Win/lose count 3.0/0. Average score (3.7142857142857144)\n",
      "Win/lose count 1.5/0. Average score (3.566666666666667)\n",
      "Win/lose count 9.5/0. Average score (3.9375)\n",
      "Win/lose count 2.0/0. Average score (3.823529411764706)\n",
      "Win/lose count 2.0/0. Average score (3.7222222222222223)\n",
      "Win/lose count 1.0/0. Average score (3.5789473684210527)\n",
      "Win/lose count 1.5/0. Average score (3.475)\n",
      "Final score: 3.475\n"
     ]
    },
    {
     "data": {
      "text/html": [
       "<video alt=\"test\" controls>\n",
       "                <source src=\"data:video/mp4;base64,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\" type=\"video/mp4\" />\n",
       "             </video>"
      ],
      "text/plain": [
       "<IPython.core.display.HTML object>"
      ]
     },
     "execution_count": 25,
     "metadata": {},
     "output_type": "execute_result"
    }
   ],
   "source": [
    "# Evaluation\n",
    "test(agent,env,epochs_test,prefix='cnn_test_explore')\n",
    "HTML(display_videos('cnn_test_explore10.mp4'))"
   ]
  },
  {
   "cell_type": "markdown",
   "metadata": {},
   "source": [
    "***\n",
    "***\n",
    "__BONUS question__ Use the expert DQN from the previous question to generate some winning games. Train a model that mimicks its behavior. Compare the performances."
   ]
  },
  {
   "cell_type": "markdown",
   "metadata": {},
   "source": []
  },
  {
   "cell_type": "markdown",
   "metadata": {},
   "source": [
    "***"
   ]
  }
 ],
 "metadata": {
  "kernelspec": {
   "display_name": "Python 3",
   "language": "python",
   "name": "python3"
  },
  "language_info": {
   "codemirror_mode": {
    "name": "ipython",
    "version": 3
   },
   "file_extension": ".py",
   "mimetype": "text/x-python",
   "name": "python",
   "nbconvert_exporter": "python",
   "pygments_lexer": "ipython3",
   "version": "3.6.7"
  }
 },
 "nbformat": 4,
 "nbformat_minor": 4
}
